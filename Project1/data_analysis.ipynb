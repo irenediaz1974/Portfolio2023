{
 "cells": [
  {
   "attachments": {},
   "cell_type": "markdown",
   "metadata": {},
   "source": [
    "# Data Analysis\n",
    "***\n",
    "*csv file:  \"garments_worker_productivity.csv\"*\n",
    "\n",
    "*from: Productivity Prediction of Garment Employees. UCI Machine Learning Repository (2020)*\n"
   ]
  },
  {
   "cell_type": "code",
   "execution_count": null,
   "metadata": {},
   "outputs": [],
   "source": [
    "# Import Pandas\n",
    "import pandas as pd\n",
    "import numpy as np\n",
    "import matplotlib as mpl\n",
    "import matplotlib.pyplot as plt"
   ]
  },
  {
   "cell_type": "code",
   "execution_count": null,
   "metadata": {},
   "outputs": [],
   "source": [
    "#Open csv file garments_worker_productivity.csv\n",
    "file=\"garments_worker_productivity.csv\"\n",
    "df_garments=pd.read_csv(file)\n"
   ]
  },
  {
   "cell_type": "code",
   "execution_count": null,
   "metadata": {},
   "outputs": [],
   "source": [
    "# Dataset dimension \n",
    "print (\"Dataset Dimensions:\", df_garments.shape)\n",
    "# find null values\n",
    "df_garments.isnull().any()\n",
    "# If we found any true value, que can apply sum() to see the amount \n",
    "df_garments.isnull().sum()"
   ]
  },
  {
   "attachments": {},
   "cell_type": "markdown",
   "metadata": {},
   "source": [
    "#### Drop column Wip (Work in progress)\n",
    "\n",
    "Contain many nan values (506)."
   ]
  },
  {
   "cell_type": "code",
   "execution_count": null,
   "metadata": {},
   "outputs": [],
   "source": [
    "# There are 506 Missing values in wip. \n",
    "df_garments.drop(\"wip\", axis=1, inplace=True)\n"
   ]
  },
  {
   "cell_type": "code",
   "execution_count": null,
   "metadata": {},
   "outputs": [],
   "source": [
    "df_garments.dtypes"
   ]
  },
  {
   "attachments": {},
   "cell_type": "markdown",
   "metadata": {},
   "source": [
    "##### Before check dtype of columns, the results are:\n",
    "\n",
    "**Time**\n",
    "\n",
    "- date, quarter, day : *type object*\n",
    "- smv (Standard Minute Value, it is the allocated time for a task) (*type float64*) \n",
    "- over_time (Represents the amount of overtime by each team in minutes)(*type int64*)\n",
    "- idle_time (The amount of time when the production was interrupted due to several reasons)(*type float64*) \n",
    "\n",
    "**Categorical Variables**\n",
    "\n",
    "- department (*type object*)\n",
    "- team (*type int64*) \n",
    " \n",
    "**Continous variable**\n",
    "\n",
    "- targeted_productivity (*type float64*) \n",
    "- actual_productivity (*type float64*) \n",
    "- incentive (Represents the amount of financial incentive (in BDT)(*type int64*)\n",
    "- idle_men(The number of workers who were idle due to production interruption)(*type int64*)\n",
    "- no_of_style_change (Number of changes in the style of a particular product) (*type int64*)\n",
    "- no_of_workers (Number of workers in each team)(*type float64*)"
   ]
  },
  {
   "cell_type": "code",
   "execution_count": null,
   "metadata": {},
   "outputs": [],
   "source": [
    "#Cast to int \"no_of_workers\"\n",
    "df_garments[\"no_of_workers\"]=df_garments[\"no_of_workers\"].astype(int, copy=True)\n",
    "#Lets see dataframe\n",
    "df_garments.head()"
   ]
  },
  {
   "attachments": {},
   "cell_type": "markdown",
   "metadata": {},
   "source": [
    "##### Using describe function to obtain clearer idea of the distribution of  different variables. "
   ]
  },
  {
   "cell_type": "code",
   "execution_count": null,
   "metadata": {},
   "outputs": [],
   "source": [
    "df_garments.describe()"
   ]
  },
  {
   "attachments": {},
   "cell_type": "markdown",
   "metadata": {},
   "source": [
    "#### Analizing correlation between variables continuas and productivity\n"
   ]
  },
  {
   "cell_type": "code",
   "execution_count": null,
   "metadata": {},
   "outputs": [],
   "source": []
  },
  {
   "attachments": {},
   "cell_type": "markdown",
   "metadata": {},
   "source": [
    "*Conclusion: Productivity always is better than targeted productivity*\n",
    "\n",
    "\n"
   ]
  }
 ],
 "metadata": {
  "kernelspec": {
   "display_name": "MiJupyter",
   "language": "python",
   "name": "mijupyter"
  },
  "language_info": {
   "codemirror_mode": {
    "name": "ipython",
    "version": 3
   },
   "file_extension": ".py",
   "mimetype": "text/x-python",
   "name": "python",
   "nbconvert_exporter": "python",
   "pygments_lexer": "ipython3",
   "version": "3.7.9"
  },
  "orig_nbformat": 4
 },
 "nbformat": 4,
 "nbformat_minor": 2
}
