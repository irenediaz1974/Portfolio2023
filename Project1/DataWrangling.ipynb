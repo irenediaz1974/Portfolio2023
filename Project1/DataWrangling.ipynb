{
 "cells": [
  {
   "attachments": {},
   "cell_type": "markdown",
   "metadata": {},
   "source": [
    "SELECTED CHARACTERISTICS OF THE FOREIGN-BORN POPULATION BY REGION OF BIRTH:  LATIN AMERICA\n",
    "ACSST1Y2021.S0506-Data.csv from https://data.census.gov/ "
   ]
  }
 ],
 "metadata": {
  "kernelspec": {
   "display_name": "MiJupyter",
   "language": "python",
   "name": "mijupyter"
  },
  "orig_nbformat": 4
 },
 "nbformat": 4,
 "nbformat_minor": 2
}
