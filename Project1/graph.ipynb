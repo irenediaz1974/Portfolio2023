{
 "cells": [
  {
   "cell_type": "code",
   "execution_count": null,
   "metadata": {},
   "outputs": [],
   "source": [
    "# Import Pandas\n",
    "import pandas as pd\n",
    "import numpy as np\n",
    "import matplotlib as mpl\n",
    "import matplotlib.pyplot as plt"
   ]
  },
  {
   "cell_type": "code",
   "execution_count": null,
   "metadata": {},
   "outputs": [],
   "source": [
    "#Open csv file garments_worker_productivity.csv\n",
    "file=\"garments_worker_productivity.csv\"\n",
    "df_garments=pd.read_csv(file)"
   ]
  },
  {
   "cell_type": "code",
   "execution_count": null,
   "metadata": {},
   "outputs": [],
   "source": [
    "# There are 506 Missing values in wip. \n",
    "df_garments.drop(\"wip\", axis=1, inplace=True)"
   ]
  },
  {
   "cell_type": "code",
   "execution_count": null,
   "metadata": {},
   "outputs": [],
   "source": [
    "#Cast to int \"no_of_workers\"\n",
    "df_garments[\"no_of_workers\"]=df_garments[\"no_of_workers\"].astype(int, copy=True)\n",
    "#Lets see dataframe\n",
    "df_garments.head()"
   ]
  },
  {
   "cell_type": "code",
   "execution_count": null,
   "metadata": {},
   "outputs": [],
   "source": [
    "# Productivity actual and targeted in quarters\n",
    "df_productivity_quarter=df_garments.groupby(\"quarter\", axis=0).sum()\n",
    "# Barchar\n",
    "mpl.style.use('ggplot') # optional: for ggplot-like style\n",
    "df_total= df_productivity_quarter[[\"actual_productivity\", \"targeted_productivity\"]]\n",
    "df_total"
   ]
  },
  {
   "cell_type": "code",
   "execution_count": null,
   "metadata": {},
   "outputs": [],
   "source": [
    "df_total.plot(kind=\"bar\")\n",
    "plt.title(\"Productivity\")\n",
    "plt.xlabel(\"Quarter\")\n",
    "plt.ylabel(\"Productivity\")\n",
    "plt.show()"
   ]
  }
 ],
 "metadata": {
  "kernelspec": {
   "display_name": "MiJupyter",
   "language": "python",
   "name": "mijupyter"
  },
  "orig_nbformat": 4
 },
 "nbformat": 4,
 "nbformat_minor": 2
}
