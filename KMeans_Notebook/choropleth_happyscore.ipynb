{
 "cells": [
  {
   "cell_type": "code",
   "execution_count": null,
   "metadata": {},
   "outputs": [],
   "source": [
    "import pandas as pd\n",
    "import matplotlib.pyplot as plt\n",
    "import numpy as np\n",
    "import folium\n",
    "import json"
   ]
  },
  {
   "cell_type": "code",
   "execution_count": null,
   "metadata": {},
   "outputs": [],
   "source": [
    "#read csv file to dataframe df_happy\n",
    "file_to_read=\"happyscore_income.csv\"\n",
    "df_happy=pd.read_csv(file_to_read)"
   ]
  },
  {
   "cell_type": "code",
   "execution_count": null,
   "metadata": {},
   "outputs": [],
   "source": [
    "#read json file to dict countries_geo\n",
    "\n",
    "with open (\"localizar.json\") as json_fil:\n",
    "    countries_geo=json.load(json_fil)\n"
   ]
  },
  {
   "cell_type": "code",
   "execution_count": null,
   "metadata": {},
   "outputs": [],
   "source": [
    "#df_happy_region= df_happy [df_happy[\"region\"]==\"'Latin America and Caribbean'\"]\n",
    "df_happy[[\"avg_income\",\"country\"]].plot(kind=\"line\")"
   ]
  },
  {
   "cell_type": "code",
   "execution_count": null,
   "metadata": {},
   "outputs": [],
   "source": [
    "\n",
    "#convert column's name to str\n",
    "df_happy.columns = list(map(str,df_happy.columns))\n",
    "\n",
    "missing_data = df_happy.isnull()\n",
    "for column in missing_data.columns.values.tolist():\n",
    "    print(column)\n",
    "    print (missing_data[column].value_counts())\n",
    "    print(\"\")   \n",
    "\n"
   ]
  },
  {
   "cell_type": "code",
   "execution_count": null,
   "metadata": {},
   "outputs": [],
   "source": [
    "df_happy.head()"
   ]
  },
  {
   "attachments": {},
   "cell_type": "markdown",
   "metadata": {},
   "source": [
    "## Folium map \n",
    "___"
   ]
  },
  {
   "cell_type": "code",
   "execution_count": null,
   "metadata": {},
   "outputs": [],
   "source": [
    "# create a plain world map\n",
    "import folium\n",
    "world_map = folium.Map(location=[0, 0], zoom_start=2)"
   ]
  },
  {
   "cell_type": "code",
   "execution_count": null,
   "metadata": {},
   "outputs": [],
   "source": [
    "world_map.choropleth(\n",
    "    geo_data=countries_geo,\n",
    "    data=df_happy[[\"country\", \"happyScore\"]],\n",
    "    columns=[\"country\", \"happyScore\"],\n",
    "    key_on='feature.properties.name',\n",
    "    fill_color='YlOrRd', \n",
    "    fill_opacity=0.7, \n",
    "    line_opacity=0.2,\n",
    "    legend_name='Happy score by countries')\n",
    "# display map\n",
    "world_map"
   ]
  },
  {
   "cell_type": "code",
   "execution_count": null,
   "metadata": {},
   "outputs": [],
   "source": [
    "import numpy as np\n",
    "# create a numpy array of length 6 and has linear spacing from the minimum  happiness to the maximum hapiness\n",
    "threshold_scale = np.linspace(df_happy['happyScore'].min(),\n",
    "                              df_happy['happyScore'].max(),\n",
    "                              6, dtype=int)\n",
    "threshold_scale = threshold_scale.tolist() # change the numpy array to a list\n",
    "threshold_scale[-1] = threshold_scale[-1] + 1 # make sure that the last value of the list is greater than the maximum \n",
    "# let Folium determine the scale.\n",
    "\n",
    "world_map = folium.Map(location=[0, 0], zoom_start=2)\n",
    "world_map.choropleth(\n",
    "    geo_data=countries_geo,\n",
    "    data=df_happy[[\"country\", \"happyScore\"]],\n",
    "    columns=[\"country\", \"happyScore\"],\n",
    "    key_on='feature.properties.name',\n",
    "    threshold_scale=threshold_scale,\n",
    "    fill_color='Set2', #colorbrewer code in python\n",
    "    fill_opacity=0.7, \n",
    "    line_opacity=0.2,\n",
    "    legend_name='Happy score by countries',\n",
    "    reset=True\n",
    ")\n",
    "world_map"
   ]
  }
 ],
 "metadata": {
  "kernelspec": {
   "display_name": "MiJupyter",
   "language": "python",
   "name": "mijupyter"
  },
  "language_info": {
   "codemirror_mode": {
    "name": "ipython",
    "version": 3
   },
   "file_extension": ".py",
   "mimetype": "text/x-python",
   "name": "python",
   "nbconvert_exporter": "python",
   "pygments_lexer": "ipython3",
   "version": "3.7.9"
  },
  "orig_nbformat": 4
 },
 "nbformat": 4,
 "nbformat_minor": 2
}
