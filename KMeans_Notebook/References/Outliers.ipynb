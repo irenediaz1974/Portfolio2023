{
 "cells": [
  {
   "attachments": {},
   "cell_type": "markdown",
   "metadata": {},
   "source": [
    "### Outliers en 1 Dimension. \n",
    "Ejercicio tomado de:\n",
    "https://github.com/jbagnato/machine-learning/blob/master/Ejercicio_Outliers.ipynb\n"
   ]
  },
  {
   "cell_type": "code",
   "execution_count": null,
   "metadata": {},
   "outputs": [],
   "source": [
    "import matplotlib.pyplot as plt\n",
    "import numpy as np\n",
    "from math import pi\n",
    "edades = np.array([22,22,23,23,23,23,26,27,27,28,30,30,30,30,31,32,33,34,80])\n",
    "edad_unique, counts = np.unique(edades, return_counts=True)\n",
    "sizes = counts*100\n",
    "colors = ['blue']*len(edad_unique)\n",
    "colors[-1] = 'red'\n",
    "\n",
    "plt.axhline(1, color='k', linestyle='--')\n",
    "plt.scatter(edad_unique, np.ones(len(edad_unique)), s=sizes, color=colors)\n",
    "plt.yticks([])\n",
    "plt.show()"
   ]
  },
  {
   "attachments": {},
   "cell_type": "markdown",
   "metadata": {},
   "source": [
    "### Outliers en 2 Dimensiones"
   ]
  },
  {
   "cell_type": "code",
   "execution_count": null,
   "metadata": {},
   "outputs": [],
   "source": [
    "salario_anual_miles = np.array([16,20,15,21,19,17,33,22,31,32,56,30,22,31,30,16,2,22,23])\n",
    "media = (salario_anual_miles).mean()\n",
    "std_x = (salario_anual_miles).std()*2\n",
    "media_y = (edades).mean()\n",
    "std_y = (edades).std()*2\n",
    "\n",
    "colors = ['blue']*len(salario_anual_miles)\n",
    "for index, x in enumerate(salario_anual_miles):\n",
    "    if abs(x-media) > std_x:\n",
    "        colors[index] = 'red'\n",
    "        \n",
    "for index, x in enumerate(edades):\n",
    "    if abs(x-media_y) > std_y:\n",
    "        colors[index] = 'red'\n",
    "\n",
    "plt.scatter(edades, salario_anual_miles, s=100, color=colors)\n",
    "plt.axhline(media, color='k', linestyle='--')\n",
    "plt.axvline(media_y, color='k', linestyle='--')\n",
    "\n",
    "v=media     #y-position of the center\n",
    "u=media_y    #x-position of the center\n",
    "b=std_x     #radius on the y-axis\n",
    "a=std_y    #radius on the x-axis\n",
    "\n",
    "t = np.linspace(0, 2*pi, 100)\n",
    "plt.plot( u+a*np.cos(t) , v+b*np.sin(t) )\n",
    "\n",
    "plt.xlabel('Edad')\n",
    "plt.ylabel('Salario Anual (miles)')\n",
    "plt.show()"
   ]
  },
  {
   "attachments": {},
   "cell_type": "markdown",
   "metadata": {},
   "source": [
    "### Outliers en 3D"
   ]
  },
  {
   "cell_type": "code",
   "execution_count": null,
   "metadata": {},
   "outputs": [],
   "source": [
    "from mpl_toolkits.mplot3d import Axes3D\n",
    "fig = plt.figure(figsize=(7,7))\n",
    "ax = fig.gca(projection='3d')\n",
    "\n",
    "compras_mes = np.array([1,2,1,20,1,0,3,2,3,0,5,3,2,1,0,1,2,2,2])\n",
    "media_z = (compras_mes).mean()\n",
    "std_z = (compras_mes).std()*2\n",
    "\n",
    "for index, x in enumerate(compras_mes):\n",
    "    if abs(x-media_z) > std_z:\n",
    "        colors[index] = 'red'\n",
    "\n",
    "ax.scatter(edades, salario_anual_miles, compras_mes, s=20, c=colors)\n",
    "plt.xlabel('Edad')\n",
    "plt.ylabel('Salario Anual (miles)')\n",
    "ax.set_zlabel('Compras mensuales')\n",
    "\n",
    "plt.show()"
   ]
  },
  {
   "attachments": {},
   "cell_type": "markdown",
   "metadata": {},
   "source": [
    "### Outliers usando BoxPlots"
   ]
  },
  {
   "cell_type": "code",
   "execution_count": null,
   "metadata": {},
   "outputs": [],
   "source": [
    "green_diamond = dict(markerfacecolor='g', marker='D')\n",
    "fig, ax = plt.subplots()\n",
    "ax.set_title('Boxplot por Edades')\n",
    "ax.boxplot(edades, flierprops=green_diamond, labels=[\"Edad\"])"
   ]
  },
  {
   "cell_type": "markdown",
   "metadata": {},
   "source": [
    "### Como afecta ouliers"
   ]
  },
  {
   "cell_type": "code",
   "execution_count": null,
   "metadata": {},
   "outputs": [],
   "source": [
    "import seaborn as sns\n",
    "\n",
    "#CON OUTLIERS\n",
    "\n",
    "sns.set(color_codes=True)\n",
    "sns.regplot(x=edades, y=salario_anual_miles)"
   ]
  },
  {
   "cell_type": "code",
   "execution_count": null,
   "metadata": {},
   "outputs": [],
   "source": [
    "# SIN OUTLIERS\n",
    "\n",
    "edades_fix=[]\n",
    "salario_anual_miles_fix=[]\n",
    "\n",
    "for index, x in enumerate(salario_anual_miles):\n",
    "    y= edades[index]\n",
    "    if abs(x-media) > std_x or abs(y-media_y) > std_y:\n",
    "        pass\n",
    "    else:\n",
    "        edades_fix.append(y)\n",
    "        salario_anual_miles_fix.append(x)\n",
    "        \n",
    "sns.regplot(x=np.array(edades_fix), y=np.array(salario_anual_miles_fix))"
   ]
  }
 ],
 "metadata": {
  "language_info": {
   "name": "python"
  },
  "orig_nbformat": 4
 },
 "nbformat": 4,
 "nbformat_minor": 2
}
