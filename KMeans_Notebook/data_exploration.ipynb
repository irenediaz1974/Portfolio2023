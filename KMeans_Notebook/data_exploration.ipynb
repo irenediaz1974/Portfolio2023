{
 "cells": [
  {
   "attachments": {},
   "cell_type": "markdown",
   "metadata": {},
   "source": [
    "**EN** - *We can say: The more happiest people are richest, we know happiness depend on income but there are more variables. which ones affect happy score?. How can we estimate the happiness?*\n",
    "\n",
    "**ES** - *Podemos decir: Las personas más ricas son las más felices, en general, pero, ¿es siempre?. ¿La felicidad depende únicamente de los ingresos? ¿Cómo podemos estimar la felicidad?*"
   ]
  },
  {
   "attachments": {},
   "cell_type": "markdown",
   "metadata": {},
   "source": [
    "####This project intend find insights in a provide happy_score dataset"
   ]
  }
 ],
 "metadata": {
  "kernelspec": {
   "display_name": "MiJupyter",
   "language": "python",
   "name": "mijupyter"
  },
  "orig_nbformat": 4
 },
 "nbformat": 4,
 "nbformat_minor": 2
}
