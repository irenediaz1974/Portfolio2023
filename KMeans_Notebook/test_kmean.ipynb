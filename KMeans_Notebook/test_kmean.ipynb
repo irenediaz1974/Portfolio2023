{
 "cells": [
  {
   "cell_type": "code",
   "execution_count": 1,
   "metadata": {},
   "outputs": [],
   "source": [
    "import pandas as pd\n",
    "import numpy as np\n",
    "import scipy.stats as stats\n",
    "import matplotlib.pyplot as plt\n",
    "from sklearn.model_selection import train_test_split\n",
    "from sklearn.cluster import KMeans\n",
    "#from sklearn.metrics import silhouette_score\n",
    "#from sklearn.preprocessing import RobustScaler\n",
    "#from yellowbrick.cluster import SilhouetteVisualizer\n",
    "#from yellowbrick.cluster import KElbowVisualizer\n"
   ]
  },
  {
   "attachments": {},
   "cell_type": "markdown",
   "metadata": {},
   "source": [
    "### Import data, divide by train and test sets, plot data to train"
   ]
  },
  {
   "cell_type": "code",
   "execution_count": 2,
   "metadata": {},
   "outputs": [],
   "source": [
    "file_to_read=\"data_full_banknote.txt\"\n",
    "df_full_banknote=pd.read_csv(file_to_read)\n",
    "# delete duplicated there is not null values\n",
    "df_full_banknote= df_full_banknote.drop_duplicates()\n",
    "# put the headers\n",
    "df_full_banknote.columns=[\"V1\", \"V2\", \"V3\", \"V4\", \"class\"]\n",
    "df_full_banknote.drop([\"V3\", \"V4\"],axis=1, inplace=True)\n"
   ]
  },
  {
   "cell_type": "code",
   "execution_count": 3,
   "metadata": {},
   "outputs": [
    {
     "name": "stdout",
     "output_type": "stream",
     "text": [
      "size for V1 without outliers:  13 size for V2 without outliers:  17\n",
      "\n",
      "Outliers for V2:  [12.9516 11.9211 11.8818 11.9459 12.3784 12.5398 11.9604 11.9625 12.1177\n",
      " 12.1611 12.1984 12.606  12.5026 12.7302 11.8052 11.8797 12.6247] \n",
      "Outliers for V1:  [5.7867 6.5633 5.807  5.8862 6.0919 5.7353 5.7823 5.7403 5.9374 5.8782\n",
      " 5.7456 6.8248 5.8519]\n"
     ]
    }
   ],
   "source": [
    "\n",
    "# create numpy array\n",
    "values=np.array(df_full_banknote)\n",
    "np_v1=values[:,0]\n",
    "np_v2=values[:,1]\n",
    "\n",
    "# standard deviation\n",
    "std_v1=np_v1.std()\n",
    "std_v2=np_v2.std()\n",
    "\n",
    "np_v1_Outliers= np_v1[np_v1 >= (2 * std_v1)]\n",
    "np_v2_Outliers= np_v2[np_v2 >= (2 * std_v2)]\n",
    "\n",
    "print( \"size for V1 without outliers: \", np_v1_Outliers.size, \"size for V2 without outliers: \" , np_v2_Outliers.size)\n",
    "\n",
    "print (\"\\nOutliers for V2: \",  np_v2_Outliers, \"\\nOutliers for V1: \", np_v1_Outliers )"
   ]
  },
  {
   "cell_type": "code",
   "execution_count": 3,
   "metadata": {},
   "outputs": [
    {
     "name": "stdout",
     "output_type": "stream",
     "text": [
      "data to train kmeans:  1077\n",
      "data to test kmean:  270\n"
     ]
    }
   ],
   "source": [
    "df_train_Kmeans, df_test_kmeans = train_test_split(df_full_banknote, test_size = 0.20)\n",
    "print(\"data to train kmeans: \", len(df_train_Kmeans))\n",
    "print(\"data to test kmean: \", len(df_test_kmeans))"
   ]
  },
  {
   "cell_type": "code",
   "execution_count": null,
   "metadata": {},
   "outputs": [],
   "source": [
    "def save_centers(old_centers, n_clusters):\n",
    "    \n",
    "\n",
    "    return new_center"
   ]
  },
  {
   "cell_type": "code",
   "execution_count": 27,
   "metadata": {},
   "outputs": [
    {
     "name": "stderr",
     "output_type": "stream",
     "text": [
      "c:\\Users\\T\\miniconda3\\envs\\MiConda\\Lib\\site-packages\\sklearn\\cluster\\_kmeans.py:1362: RuntimeWarning: Explicit initial center position passed: performing only one init in KMeans instead of n_init=10.\n",
      "  super()._check_params_vs_input(X, default_n_init=10)\n"
     ]
    },
    {
     "ename": "ValueError",
     "evalue": "The shape of the initial centers (2, 3) does not match the number of clusters 3.",
     "output_type": "error",
     "traceback": [
      "\u001b[1;31m---------------------------------------------------------------------------\u001b[0m",
      "\u001b[1;31mValueError\u001b[0m                                Traceback (most recent call last)",
      "Cell \u001b[1;32mIn[27], line 20\u001b[0m\n\u001b[0;32m     16\u001b[0m df_kmeans_data\u001b[39m=\u001b[39m [clusters, \u001b[39m2\u001b[39m]\n\u001b[0;32m     18\u001b[0m \u001b[39m# second time\u001b[39;00m\n\u001b[1;32m---> 20\u001b[0m kmeans \u001b[39m=\u001b[39m KMeans(n_clusters\u001b[39m=\u001b[39m\u001b[39m3\u001b[39m ,init\u001b[39m=\u001b[39mclusters, n_init\u001b[39m=\u001b[39m\u001b[39m10\u001b[39m, max_iter\u001b[39m=\u001b[39m\u001b[39m10\u001b[39m)\u001b[39m.\u001b[39mfit(df_train_Kmeans)\n\u001b[0;32m     21\u001b[0m etiquetas\u001b[39m=\u001b[39mkmeans\u001b[39m.\u001b[39mlabels_\n\u001b[0;32m     22\u001b[0m clusters\u001b[39m=\u001b[39m kmeans\u001b[39m.\u001b[39mcluster_centers_\n",
      "File \u001b[1;32mc:\\Users\\T\\miniconda3\\envs\\MiConda\\Lib\\site-packages\\sklearn\\cluster\\_kmeans.py:1437\u001b[0m, in \u001b[0;36mKMeans.fit\u001b[1;34m(self, X, y, sample_weight)\u001b[0m\n\u001b[0;32m   1435\u001b[0m \u001b[39mif\u001b[39;00m init_is_array_like:\n\u001b[0;32m   1436\u001b[0m     init \u001b[39m=\u001b[39m check_array(init, dtype\u001b[39m=\u001b[39mX\u001b[39m.\u001b[39mdtype, copy\u001b[39m=\u001b[39m\u001b[39mTrue\u001b[39;00m, order\u001b[39m=\u001b[39m\u001b[39m\"\u001b[39m\u001b[39mC\u001b[39m\u001b[39m\"\u001b[39m)\n\u001b[1;32m-> 1437\u001b[0m     \u001b[39mself\u001b[39m\u001b[39m.\u001b[39m_validate_center_shape(X, init)\n\u001b[0;32m   1439\u001b[0m \u001b[39m# subtract of mean of x for more accurate distance computations\u001b[39;00m\n\u001b[0;32m   1440\u001b[0m \u001b[39mif\u001b[39;00m \u001b[39mnot\u001b[39;00m sp\u001b[39m.\u001b[39missparse(X):\n",
      "File \u001b[1;32mc:\\Users\\T\\miniconda3\\envs\\MiConda\\Lib\\site-packages\\sklearn\\cluster\\_kmeans.py:923\u001b[0m, in \u001b[0;36m_BaseKMeans._validate_center_shape\u001b[1;34m(self, X, centers)\u001b[0m\n\u001b[0;32m    921\u001b[0m \u001b[39m\"\"\"Check if centers is compatible with X and n_clusters.\"\"\"\u001b[39;00m\n\u001b[0;32m    922\u001b[0m \u001b[39mif\u001b[39;00m centers\u001b[39m.\u001b[39mshape[\u001b[39m0\u001b[39m] \u001b[39m!=\u001b[39m \u001b[39mself\u001b[39m\u001b[39m.\u001b[39mn_clusters:\n\u001b[1;32m--> 923\u001b[0m     \u001b[39mraise\u001b[39;00m \u001b[39mValueError\u001b[39;00m(\n\u001b[0;32m    924\u001b[0m         \u001b[39mf\u001b[39m\u001b[39m\"\u001b[39m\u001b[39mThe shape of the initial centers \u001b[39m\u001b[39m{\u001b[39;00mcenters\u001b[39m.\u001b[39mshape\u001b[39m}\u001b[39;00m\u001b[39m does not \u001b[39m\u001b[39m\"\u001b[39m\n\u001b[0;32m    925\u001b[0m         \u001b[39mf\u001b[39m\u001b[39m\"\u001b[39m\u001b[39mmatch the number of clusters \u001b[39m\u001b[39m{\u001b[39;00m\u001b[39mself\u001b[39m\u001b[39m.\u001b[39mn_clusters\u001b[39m}\u001b[39;00m\u001b[39m.\u001b[39m\u001b[39m\"\u001b[39m\n\u001b[0;32m    926\u001b[0m     )\n\u001b[0;32m    927\u001b[0m \u001b[39mif\u001b[39;00m centers\u001b[39m.\u001b[39mshape[\u001b[39m1\u001b[39m] \u001b[39m!=\u001b[39m X\u001b[39m.\u001b[39mshape[\u001b[39m1\u001b[39m]:\n\u001b[0;32m    928\u001b[0m     \u001b[39mraise\u001b[39;00m \u001b[39mValueError\u001b[39;00m(\n\u001b[0;32m    929\u001b[0m         \u001b[39mf\u001b[39m\u001b[39m\"\u001b[39m\u001b[39mThe shape of the initial centers \u001b[39m\u001b[39m{\u001b[39;00mcenters\u001b[39m.\u001b[39mshape\u001b[39m}\u001b[39;00m\u001b[39m does not \u001b[39m\u001b[39m\"\u001b[39m\n\u001b[0;32m    930\u001b[0m         \u001b[39mf\u001b[39m\u001b[39m\"\u001b[39m\u001b[39mmatch the number of features of the data \u001b[39m\u001b[39m{\u001b[39;00mX\u001b[39m.\u001b[39mshape[\u001b[39m1\u001b[39m]\u001b[39m}\u001b[39;00m\u001b[39m.\u001b[39m\u001b[39m\"\u001b[39m\n\u001b[0;32m    931\u001b[0m     )\n",
      "\u001b[1;31mValueError\u001b[0m: The shape of the initial centers (2, 3) does not match the number of clusters 3."
     ]
    }
   ],
   "source": [
    "# main\n",
    "values=np.array(df_train_Kmeans)\n",
    "np_v1=values[:,0]\n",
    "np_v2=values[:,1]\n",
    "\n",
    "x_center=np.mean(np_v1, 0)\n",
    "y_center=np.mean(np_v2, 0)\n",
    "num_cluster=2\n",
    "\n",
    "#first time\n",
    "\n",
    "kmeans = KMeans(n_clusters=2,init=\"random\", n_init=10, max_iter=10).fit(df_train_Kmeans)\n",
    "etiquetas=kmeans.labels_\n",
    "clusters= kmeans.cluster_centers_\n",
    "\n",
    "df_kmeans_data= [clusters, 2]\n",
    "\n",
    "# second time\n",
    "\n",
    "kmeans = KMeans(n_clusters=3 ,init=clusters, n_init=10, max_iter=10).fit(df_train_Kmeans)\n",
    "etiquetas=kmeans.labels_\n",
    "clusters= kmeans.cluster_centers_\n",
    "\n",
    "df_kmeans_data= [clusters, 2]\n",
    "\n",
    "\n"
   ]
  },
  {
   "cell_type": "code",
   "execution_count": null,
   "metadata": {},
   "outputs": [],
   "source": []
  }
 ],
 "metadata": {
  "kernelspec": {
   "display_name": "MiConda",
   "language": "python",
   "name": "python3"
  },
  "language_info": {
   "codemirror_mode": {
    "name": "ipython",
    "version": 3
   },
   "file_extension": ".py",
   "mimetype": "text/x-python",
   "name": "python",
   "nbconvert_exporter": "python",
   "pygments_lexer": "ipython3",
   "version": "3.11.2"
  },
  "orig_nbformat": 4
 },
 "nbformat": 4,
 "nbformat_minor": 2
}
